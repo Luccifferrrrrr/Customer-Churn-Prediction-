{
 "cells": [
  {
   "cell_type": "code",
   "execution_count": 1,
   "id": "c483fe40-e047-450a-a712-6c1cfc09ef1d",
   "metadata": {
    "tags": []
   },
   "outputs": [],
   "source": [
    "import numpy as np\n",
    "import pandas as pd"
   ]
  },
  {
   "cell_type": "code",
   "execution_count": 2,
   "id": "d190cfef-3ff9-46e7-b00a-a312f4adbfaa",
   "metadata": {
    "tags": []
   },
   "outputs": [],
   "source": [
    "df=pd.read_csv('Churn_Modelling.csv')"
   ]
  },
  {
   "cell_type": "code",
   "execution_count": 3,
   "id": "309a1f1f-846e-42e1-b113-ae6e6a6786d9",
   "metadata": {
    "tags": []
   },
   "outputs": [
    {
     "data": {
      "text/html": [
       "<div>\n",
       "<style scoped>\n",
       "    .dataframe tbody tr th:only-of-type {\n",
       "        vertical-align: middle;\n",
       "    }\n",
       "\n",
       "    .dataframe tbody tr th {\n",
       "        vertical-align: top;\n",
       "    }\n",
       "\n",
       "    .dataframe thead th {\n",
       "        text-align: right;\n",
       "    }\n",
       "</style>\n",
       "<table border=\"1\" class=\"dataframe\">\n",
       "  <thead>\n",
       "    <tr style=\"text-align: right;\">\n",
       "      <th></th>\n",
       "      <th>RowNumber</th>\n",
       "      <th>CustomerId</th>\n",
       "      <th>Surname</th>\n",
       "      <th>CreditScore</th>\n",
       "      <th>Geography</th>\n",
       "      <th>Gender</th>\n",
       "      <th>Age</th>\n",
       "      <th>Tenure</th>\n",
       "      <th>Balance</th>\n",
       "      <th>NumOfProducts</th>\n",
       "      <th>HasCrCard</th>\n",
       "      <th>IsActiveMember</th>\n",
       "      <th>EstimatedSalary</th>\n",
       "      <th>Exited</th>\n",
       "    </tr>\n",
       "  </thead>\n",
       "  <tbody>\n",
       "    <tr>\n",
       "      <th>0</th>\n",
       "      <td>1</td>\n",
       "      <td>15634602</td>\n",
       "      <td>Hargrave</td>\n",
       "      <td>619</td>\n",
       "      <td>France</td>\n",
       "      <td>Female</td>\n",
       "      <td>42</td>\n",
       "      <td>2</td>\n",
       "      <td>0.00</td>\n",
       "      <td>1</td>\n",
       "      <td>1</td>\n",
       "      <td>1</td>\n",
       "      <td>101348.88</td>\n",
       "      <td>1</td>\n",
       "    </tr>\n",
       "    <tr>\n",
       "      <th>1</th>\n",
       "      <td>2</td>\n",
       "      <td>15647311</td>\n",
       "      <td>Hill</td>\n",
       "      <td>608</td>\n",
       "      <td>Spain</td>\n",
       "      <td>Female</td>\n",
       "      <td>41</td>\n",
       "      <td>1</td>\n",
       "      <td>83807.86</td>\n",
       "      <td>1</td>\n",
       "      <td>0</td>\n",
       "      <td>1</td>\n",
       "      <td>112542.58</td>\n",
       "      <td>0</td>\n",
       "    </tr>\n",
       "    <tr>\n",
       "      <th>2</th>\n",
       "      <td>3</td>\n",
       "      <td>15619304</td>\n",
       "      <td>Onio</td>\n",
       "      <td>502</td>\n",
       "      <td>France</td>\n",
       "      <td>Female</td>\n",
       "      <td>42</td>\n",
       "      <td>8</td>\n",
       "      <td>159660.80</td>\n",
       "      <td>3</td>\n",
       "      <td>1</td>\n",
       "      <td>0</td>\n",
       "      <td>113931.57</td>\n",
       "      <td>1</td>\n",
       "    </tr>\n",
       "    <tr>\n",
       "      <th>3</th>\n",
       "      <td>4</td>\n",
       "      <td>15701354</td>\n",
       "      <td>Boni</td>\n",
       "      <td>699</td>\n",
       "      <td>France</td>\n",
       "      <td>Female</td>\n",
       "      <td>39</td>\n",
       "      <td>1</td>\n",
       "      <td>0.00</td>\n",
       "      <td>2</td>\n",
       "      <td>0</td>\n",
       "      <td>0</td>\n",
       "      <td>93826.63</td>\n",
       "      <td>0</td>\n",
       "    </tr>\n",
       "    <tr>\n",
       "      <th>4</th>\n",
       "      <td>5</td>\n",
       "      <td>15737888</td>\n",
       "      <td>Mitchell</td>\n",
       "      <td>850</td>\n",
       "      <td>Spain</td>\n",
       "      <td>Female</td>\n",
       "      <td>43</td>\n",
       "      <td>2</td>\n",
       "      <td>125510.82</td>\n",
       "      <td>1</td>\n",
       "      <td>1</td>\n",
       "      <td>1</td>\n",
       "      <td>79084.10</td>\n",
       "      <td>0</td>\n",
       "    </tr>\n",
       "  </tbody>\n",
       "</table>\n",
       "</div>"
      ],
      "text/plain": [
       "   RowNumber  CustomerId   Surname  CreditScore Geography  Gender  Age  \\\n",
       "0          1    15634602  Hargrave          619    France  Female   42   \n",
       "1          2    15647311      Hill          608     Spain  Female   41   \n",
       "2          3    15619304      Onio          502    France  Female   42   \n",
       "3          4    15701354      Boni          699    France  Female   39   \n",
       "4          5    15737888  Mitchell          850     Spain  Female   43   \n",
       "\n",
       "   Tenure    Balance  NumOfProducts  HasCrCard  IsActiveMember  \\\n",
       "0       2       0.00              1          1               1   \n",
       "1       1   83807.86              1          0               1   \n",
       "2       8  159660.80              3          1               0   \n",
       "3       1       0.00              2          0               0   \n",
       "4       2  125510.82              1          1               1   \n",
       "\n",
       "   EstimatedSalary  Exited  \n",
       "0        101348.88       1  \n",
       "1        112542.58       0  \n",
       "2        113931.57       1  \n",
       "3         93826.63       0  \n",
       "4         79084.10       0  "
      ]
     },
     "execution_count": 3,
     "metadata": {},
     "output_type": "execute_result"
    }
   ],
   "source": [
    "df.head()\n",
    "#print(df.shape)"
   ]
  },
  {
   "cell_type": "code",
   "execution_count": 4,
   "id": "e71f9ddb-62a1-4197-a0ad-84f2841f7d08",
   "metadata": {
    "tags": []
   },
   "outputs": [
    {
     "name": "stdout",
     "output_type": "stream",
     "text": [
      "<class 'pandas.core.frame.DataFrame'>\n",
      "RangeIndex: 10000 entries, 0 to 9999\n",
      "Data columns (total 14 columns):\n",
      " #   Column           Non-Null Count  Dtype  \n",
      "---  ------           --------------  -----  \n",
      " 0   RowNumber        10000 non-null  int64  \n",
      " 1   CustomerId       10000 non-null  int64  \n",
      " 2   Surname          10000 non-null  object \n",
      " 3   CreditScore      10000 non-null  int64  \n",
      " 4   Geography        10000 non-null  object \n",
      " 5   Gender           10000 non-null  object \n",
      " 6   Age              10000 non-null  int64  \n",
      " 7   Tenure           10000 non-null  int64  \n",
      " 8   Balance          10000 non-null  float64\n",
      " 9   NumOfProducts    10000 non-null  int64  \n",
      " 10  HasCrCard        10000 non-null  int64  \n",
      " 11  IsActiveMember   10000 non-null  int64  \n",
      " 12  EstimatedSalary  10000 non-null  float64\n",
      " 13  Exited           10000 non-null  int64  \n",
      "dtypes: float64(2), int64(9), object(3)\n",
      "memory usage: 1.1+ MB\n"
     ]
    }
   ],
   "source": [
    "df.info()"
   ]
  },
  {
   "cell_type": "code",
   "execution_count": 5,
   "id": "5eae2b20-7452-4637-a775-0b8b38ad4f53",
   "metadata": {
    "tags": []
   },
   "outputs": [
    {
     "data": {
      "text/plain": [
       "0"
      ]
     },
     "execution_count": 5,
     "metadata": {},
     "output_type": "execute_result"
    }
   ],
   "source": [
    "df.duplicated().sum()"
   ]
  },
  {
   "cell_type": "code",
   "execution_count": 6,
   "id": "df212f7a-0afc-47f7-88f4-8cd8626fb729",
   "metadata": {
    "tags": []
   },
   "outputs": [
    {
     "data": {
      "text/plain": [
       "Exited\n",
       "0    7963\n",
       "1    2037\n",
       "Name: count, dtype: int64"
      ]
     },
     "execution_count": 6,
     "metadata": {},
     "output_type": "execute_result"
    }
   ],
   "source": [
    "df[\"Exited\"].value_counts()"
   ]
  },
  {
   "cell_type": "code",
   "execution_count": 7,
   "id": "9840df95-b1d6-4399-980e-11d46b365f30",
   "metadata": {
    "tags": []
   },
   "outputs": [
    {
     "data": {
      "text/plain": [
       "Geography\n",
       "France     5014\n",
       "Germany    2509\n",
       "Spain      2477\n",
       "Name: count, dtype: int64"
      ]
     },
     "execution_count": 7,
     "metadata": {},
     "output_type": "execute_result"
    }
   ],
   "source": [
    "df['Geography'].value_counts()"
   ]
  },
  {
   "cell_type": "code",
   "execution_count": 8,
   "id": "c9cc9b3b-16d3-44b5-810e-9bf2bce36843",
   "metadata": {
    "tags": []
   },
   "outputs": [
    {
     "data": {
      "text/plain": [
       "Gender\n",
       "Male      5457\n",
       "Female    4543\n",
       "Name: count, dtype: int64"
      ]
     },
     "execution_count": 8,
     "metadata": {},
     "output_type": "execute_result"
    }
   ],
   "source": [
    "df['Gender'].value_counts()"
   ]
  },
  {
   "cell_type": "code",
   "execution_count": 9,
   "id": "0fef43a1-43ec-466a-9089-fca6d52e4176",
   "metadata": {
    "tags": []
   },
   "outputs": [],
   "source": [
    "df.drop(columns=['RowNumber','CustomerId','Surname'] , inplace=True)"
   ]
  },
  {
   "cell_type": "code",
   "execution_count": 10,
   "id": "84a18692-9efd-471e-bf5f-7a45393295ce",
   "metadata": {
    "tags": []
   },
   "outputs": [
    {
     "data": {
      "text/html": [
       "<div>\n",
       "<style scoped>\n",
       "    .dataframe tbody tr th:only-of-type {\n",
       "        vertical-align: middle;\n",
       "    }\n",
       "\n",
       "    .dataframe tbody tr th {\n",
       "        vertical-align: top;\n",
       "    }\n",
       "\n",
       "    .dataframe thead th {\n",
       "        text-align: right;\n",
       "    }\n",
       "</style>\n",
       "<table border=\"1\" class=\"dataframe\">\n",
       "  <thead>\n",
       "    <tr style=\"text-align: right;\">\n",
       "      <th></th>\n",
       "      <th>CreditScore</th>\n",
       "      <th>Geography</th>\n",
       "      <th>Gender</th>\n",
       "      <th>Age</th>\n",
       "      <th>Tenure</th>\n",
       "      <th>Balance</th>\n",
       "      <th>NumOfProducts</th>\n",
       "      <th>HasCrCard</th>\n",
       "      <th>IsActiveMember</th>\n",
       "      <th>EstimatedSalary</th>\n",
       "      <th>Exited</th>\n",
       "    </tr>\n",
       "  </thead>\n",
       "  <tbody>\n",
       "    <tr>\n",
       "      <th>0</th>\n",
       "      <td>619</td>\n",
       "      <td>France</td>\n",
       "      <td>Female</td>\n",
       "      <td>42</td>\n",
       "      <td>2</td>\n",
       "      <td>0.00</td>\n",
       "      <td>1</td>\n",
       "      <td>1</td>\n",
       "      <td>1</td>\n",
       "      <td>101348.88</td>\n",
       "      <td>1</td>\n",
       "    </tr>\n",
       "    <tr>\n",
       "      <th>1</th>\n",
       "      <td>608</td>\n",
       "      <td>Spain</td>\n",
       "      <td>Female</td>\n",
       "      <td>41</td>\n",
       "      <td>1</td>\n",
       "      <td>83807.86</td>\n",
       "      <td>1</td>\n",
       "      <td>0</td>\n",
       "      <td>1</td>\n",
       "      <td>112542.58</td>\n",
       "      <td>0</td>\n",
       "    </tr>\n",
       "    <tr>\n",
       "      <th>2</th>\n",
       "      <td>502</td>\n",
       "      <td>France</td>\n",
       "      <td>Female</td>\n",
       "      <td>42</td>\n",
       "      <td>8</td>\n",
       "      <td>159660.80</td>\n",
       "      <td>3</td>\n",
       "      <td>1</td>\n",
       "      <td>0</td>\n",
       "      <td>113931.57</td>\n",
       "      <td>1</td>\n",
       "    </tr>\n",
       "    <tr>\n",
       "      <th>3</th>\n",
       "      <td>699</td>\n",
       "      <td>France</td>\n",
       "      <td>Female</td>\n",
       "      <td>39</td>\n",
       "      <td>1</td>\n",
       "      <td>0.00</td>\n",
       "      <td>2</td>\n",
       "      <td>0</td>\n",
       "      <td>0</td>\n",
       "      <td>93826.63</td>\n",
       "      <td>0</td>\n",
       "    </tr>\n",
       "    <tr>\n",
       "      <th>4</th>\n",
       "      <td>850</td>\n",
       "      <td>Spain</td>\n",
       "      <td>Female</td>\n",
       "      <td>43</td>\n",
       "      <td>2</td>\n",
       "      <td>125510.82</td>\n",
       "      <td>1</td>\n",
       "      <td>1</td>\n",
       "      <td>1</td>\n",
       "      <td>79084.10</td>\n",
       "      <td>0</td>\n",
       "    </tr>\n",
       "  </tbody>\n",
       "</table>\n",
       "</div>"
      ],
      "text/plain": [
       "   CreditScore Geography  Gender  Age  Tenure    Balance  NumOfProducts  \\\n",
       "0          619    France  Female   42       2       0.00              1   \n",
       "1          608     Spain  Female   41       1   83807.86              1   \n",
       "2          502    France  Female   42       8  159660.80              3   \n",
       "3          699    France  Female   39       1       0.00              2   \n",
       "4          850     Spain  Female   43       2  125510.82              1   \n",
       "\n",
       "   HasCrCard  IsActiveMember  EstimatedSalary  Exited  \n",
       "0          1               1        101348.88       1  \n",
       "1          0               1        112542.58       0  \n",
       "2          1               0        113931.57       1  \n",
       "3          0               0         93826.63       0  \n",
       "4          1               1         79084.10       0  "
      ]
     },
     "execution_count": 10,
     "metadata": {},
     "output_type": "execute_result"
    }
   ],
   "source": [
    "df.head()"
   ]
  },
  {
   "cell_type": "code",
   "execution_count": 11,
   "id": "83b404d8-479e-40a9-8e34-79d6990b071b",
   "metadata": {
    "tags": []
   },
   "outputs": [],
   "source": [
    "df = pd.get_dummies(df,columns=['Geography','Gender'] , drop_first=True ,dtype=int)"
   ]
  },
  {
   "cell_type": "code",
   "execution_count": 12,
   "id": "de48b2fe-ae45-4eb2-a2f7-9ed27a531dc2",
   "metadata": {
    "tags": []
   },
   "outputs": [],
   "source": [
    "X = df.drop(columns=['Exited'])\n",
    "y = df['Exited'].values\n",
    "\n",
    "from sklearn.model_selection import train_test_split\n",
    "X_train,X_test,y_train,y_test = train_test_split(X,y,test_size=0.2,random_state=1)"
   ]
  },
  {
   "cell_type": "code",
   "execution_count": 13,
   "id": "6fcd7fa3-00b4-43c4-a5ee-9952aa03ae3c",
   "metadata": {
    "tags": []
   },
   "outputs": [
    {
     "data": {
      "text/plain": [
       "(8000, 11)"
      ]
     },
     "execution_count": 13,
     "metadata": {},
     "output_type": "execute_result"
    }
   ],
   "source": [
    "X_train.shape"
   ]
  },
  {
   "cell_type": "code",
   "execution_count": 14,
   "id": "dad77567-34d4-47b9-944f-7977c322e67c",
   "metadata": {
    "tags": []
   },
   "outputs": [
    {
     "data": {
      "text/plain": [
       "array([1, 0, 1, ..., 1, 1, 0], dtype=int64)"
      ]
     },
     "execution_count": 14,
     "metadata": {},
     "output_type": "execute_result"
    }
   ],
   "source": [
    "y"
   ]
  },
  {
   "cell_type": "code",
   "execution_count": 15,
   "id": "b6cf436e-2a6c-4820-a8ff-df892e3369bf",
   "metadata": {
    "tags": []
   },
   "outputs": [],
   "source": [
    "from sklearn.preprocessing import StandardScaler\n",
    "scaler = StandardScaler()\n",
    "\n",
    "X_train_scaled = scaler.fit_transform(X_train)\n",
    "X_test_scaled = scaler.fit(X_test)"
   ]
  },
  {
   "cell_type": "code",
   "execution_count": 16,
   "id": "38355081-0beb-4d40-b28a-ec865267da81",
   "metadata": {
    "tags": []
   },
   "outputs": [
    {
     "data": {
      "text/plain": [
       "array([[-0.23082038, -0.94449979, -0.70174202, ...,  1.71490137,\n",
       "        -0.57273139,  0.91509065],\n",
       "       [-0.25150912, -0.94449979, -0.35520275, ..., -0.58312392,\n",
       "        -0.57273139, -1.09278791],\n",
       "       [-0.3963303 ,  0.77498705,  0.33787579, ...,  1.71490137,\n",
       "        -0.57273139, -1.09278791],\n",
       "       ...,\n",
       "       [ 0.22433188,  0.58393295,  1.3774936 , ..., -0.58312392,\n",
       "        -0.57273139, -1.09278791],\n",
       "       [ 0.13123255,  0.01077067,  1.03095433, ..., -0.58312392,\n",
       "        -0.57273139, -1.09278791],\n",
       "       [ 1.1656695 ,  0.29735181,  0.33787579, ...,  1.71490137,\n",
       "        -0.57273139,  0.91509065]])"
      ]
     },
     "execution_count": 16,
     "metadata": {},
     "output_type": "execute_result"
    }
   ],
   "source": [
    "X_train_scaled"
   ]
  },
  {
   "cell_type": "code",
   "execution_count": 17,
   "id": "00e11dac-f764-4fe3-809b-4302e00e99b8",
   "metadata": {
    "tags": []
   },
   "outputs": [],
   "source": [
    "import tensorflow\n",
    "from tensorflow import keras\n",
    "from tensorflow.keras import Sequential\n",
    "from tensorflow.keras.layers import Dense"
   ]
  },
  {
   "cell_type": "code",
   "execution_count": 18,
   "id": "bbcdbe03-1064-42c1-9394-54e97a060f17",
   "metadata": {
    "tags": []
   },
   "outputs": [
    {
     "name": "stderr",
     "output_type": "stream",
     "text": [
      "C:\\Users\\aman1\\anaconda3\\envs\\TF\\Lib\\site-packages\\keras\\src\\layers\\core\\dense.py:87: UserWarning: Do not pass an `input_shape`/`input_dim` argument to a layer. When using Sequential models, prefer using an `Input(shape)` object as the first layer in the model instead.\n",
      "  super().__init__(activity_regularizer=activity_regularizer, **kwargs)\n"
     ]
    }
   ],
   "source": [
    "model = Sequential()\n",
    "\n",
    "model.add( Dense(11,activation='relu' ,input_dim=11) )\n",
    "model.add( Dense(11,activation='relu'))\n",
    "model.add(Dense(1,activation='sigmoid'))"
   ]
  },
  {
   "cell_type": "code",
   "execution_count": 19,
   "id": "2b956953-6c50-45a3-a25d-7180c2de5619",
   "metadata": {
    "tags": []
   },
   "outputs": [
    {
     "data": {
      "text/html": [
       "<pre style=\"white-space:pre;overflow-x:auto;line-height:normal;font-family:Menlo,'DejaVu Sans Mono',consolas,'Courier New',monospace\"><span style=\"font-weight: bold\">Model: \"sequential\"</span>\n",
       "</pre>\n"
      ],
      "text/plain": [
       "\u001b[1mModel: \"sequential\"\u001b[0m\n"
      ]
     },
     "metadata": {},
     "output_type": "display_data"
    },
    {
     "data": {
      "text/html": [
       "<pre style=\"white-space:pre;overflow-x:auto;line-height:normal;font-family:Menlo,'DejaVu Sans Mono',consolas,'Courier New',monospace\">┏━━━━━━━━━━━━━━━━━━━━━━━━━━━━━━━━━┳━━━━━━━━━━━━━━━━━━━━━━━━┳━━━━━━━━━━━━━━━┓\n",
       "┃<span style=\"font-weight: bold\"> Layer (type)                    </span>┃<span style=\"font-weight: bold\"> Output Shape           </span>┃<span style=\"font-weight: bold\">       Param # </span>┃\n",
       "┡━━━━━━━━━━━━━━━━━━━━━━━━━━━━━━━━━╇━━━━━━━━━━━━━━━━━━━━━━━━╇━━━━━━━━━━━━━━━┩\n",
       "│ dense (<span style=\"color: #0087ff; text-decoration-color: #0087ff\">Dense</span>)                   │ (<span style=\"color: #00d7ff; text-decoration-color: #00d7ff\">None</span>, <span style=\"color: #00af00; text-decoration-color: #00af00\">11</span>)             │           <span style=\"color: #00af00; text-decoration-color: #00af00\">132</span> │\n",
       "├─────────────────────────────────┼────────────────────────┼───────────────┤\n",
       "│ dense_1 (<span style=\"color: #0087ff; text-decoration-color: #0087ff\">Dense</span>)                 │ (<span style=\"color: #00d7ff; text-decoration-color: #00d7ff\">None</span>, <span style=\"color: #00af00; text-decoration-color: #00af00\">11</span>)             │           <span style=\"color: #00af00; text-decoration-color: #00af00\">132</span> │\n",
       "├─────────────────────────────────┼────────────────────────┼───────────────┤\n",
       "│ dense_2 (<span style=\"color: #0087ff; text-decoration-color: #0087ff\">Dense</span>)                 │ (<span style=\"color: #00d7ff; text-decoration-color: #00d7ff\">None</span>, <span style=\"color: #00af00; text-decoration-color: #00af00\">1</span>)              │            <span style=\"color: #00af00; text-decoration-color: #00af00\">12</span> │\n",
       "└─────────────────────────────────┴────────────────────────┴───────────────┘\n",
       "</pre>\n"
      ],
      "text/plain": [
       "┏━━━━━━━━━━━━━━━━━━━━━━━━━━━━━━━━━┳━━━━━━━━━━━━━━━━━━━━━━━━┳━━━━━━━━━━━━━━━┓\n",
       "┃\u001b[1m \u001b[0m\u001b[1mLayer (type)                   \u001b[0m\u001b[1m \u001b[0m┃\u001b[1m \u001b[0m\u001b[1mOutput Shape          \u001b[0m\u001b[1m \u001b[0m┃\u001b[1m \u001b[0m\u001b[1m      Param #\u001b[0m\u001b[1m \u001b[0m┃\n",
       "┡━━━━━━━━━━━━━━━━━━━━━━━━━━━━━━━━━╇━━━━━━━━━━━━━━━━━━━━━━━━╇━━━━━━━━━━━━━━━┩\n",
       "│ dense (\u001b[38;5;33mDense\u001b[0m)                   │ (\u001b[38;5;45mNone\u001b[0m, \u001b[38;5;34m11\u001b[0m)             │           \u001b[38;5;34m132\u001b[0m │\n",
       "├─────────────────────────────────┼────────────────────────┼───────────────┤\n",
       "│ dense_1 (\u001b[38;5;33mDense\u001b[0m)                 │ (\u001b[38;5;45mNone\u001b[0m, \u001b[38;5;34m11\u001b[0m)             │           \u001b[38;5;34m132\u001b[0m │\n",
       "├─────────────────────────────────┼────────────────────────┼───────────────┤\n",
       "│ dense_2 (\u001b[38;5;33mDense\u001b[0m)                 │ (\u001b[38;5;45mNone\u001b[0m, \u001b[38;5;34m1\u001b[0m)              │            \u001b[38;5;34m12\u001b[0m │\n",
       "└─────────────────────────────────┴────────────────────────┴───────────────┘\n"
      ]
     },
     "metadata": {},
     "output_type": "display_data"
    },
    {
     "data": {
      "text/html": [
       "<pre style=\"white-space:pre;overflow-x:auto;line-height:normal;font-family:Menlo,'DejaVu Sans Mono',consolas,'Courier New',monospace\"><span style=\"font-weight: bold\"> Total params: </span><span style=\"color: #00af00; text-decoration-color: #00af00\">276</span> (1.08 KB)\n",
       "</pre>\n"
      ],
      "text/plain": [
       "\u001b[1m Total params: \u001b[0m\u001b[38;5;34m276\u001b[0m (1.08 KB)\n"
      ]
     },
     "metadata": {},
     "output_type": "display_data"
    },
    {
     "data": {
      "text/html": [
       "<pre style=\"white-space:pre;overflow-x:auto;line-height:normal;font-family:Menlo,'DejaVu Sans Mono',consolas,'Courier New',monospace\"><span style=\"font-weight: bold\"> Trainable params: </span><span style=\"color: #00af00; text-decoration-color: #00af00\">276</span> (1.08 KB)\n",
       "</pre>\n"
      ],
      "text/plain": [
       "\u001b[1m Trainable params: \u001b[0m\u001b[38;5;34m276\u001b[0m (1.08 KB)\n"
      ]
     },
     "metadata": {},
     "output_type": "display_data"
    },
    {
     "data": {
      "text/html": [
       "<pre style=\"white-space:pre;overflow-x:auto;line-height:normal;font-family:Menlo,'DejaVu Sans Mono',consolas,'Courier New',monospace\"><span style=\"font-weight: bold\"> Non-trainable params: </span><span style=\"color: #00af00; text-decoration-color: #00af00\">0</span> (0.00 B)\n",
       "</pre>\n"
      ],
      "text/plain": [
       "\u001b[1m Non-trainable params: \u001b[0m\u001b[38;5;34m0\u001b[0m (0.00 B)\n"
      ]
     },
     "metadata": {},
     "output_type": "display_data"
    }
   ],
   "source": [
    "model.summary()"
   ]
  },
  {
   "cell_type": "code",
   "execution_count": 20,
   "id": "7493a8c1-d8bd-437f-95ea-921c7bf1e244",
   "metadata": {
    "tags": []
   },
   "outputs": [],
   "source": [
    "model.compile(loss='binary_crossentropy',optimizer='Adam',metrics=['accuracy'])"
   ]
  },
  {
   "cell_type": "code",
   "execution_count": 21,
   "id": "97384745-b953-495f-a42b-9e62ee9bfbe7",
   "metadata": {
    "tags": []
   },
   "outputs": [
    {
     "name": "stdout",
     "output_type": "stream",
     "text": [
      "Epoch 1/100\n",
      "\u001b[1m200/200\u001b[0m \u001b[32m━━━━━━━━━━━━━━━━━━━━\u001b[0m\u001b[37m\u001b[0m \u001b[1m1s\u001b[0m 2ms/step - accuracy: 0.4504 - loss: 0.7979 - val_accuracy: 0.7975 - val_loss: 0.5165\n",
      "Epoch 2/100\n",
      "\u001b[1m200/200\u001b[0m \u001b[32m━━━━━━━━━━━━━━━━━━━━\u001b[0m\u001b[37m\u001b[0m \u001b[1m0s\u001b[0m 813us/step - accuracy: 0.8004 - loss: 0.4944 - val_accuracy: 0.8006 - val_loss: 0.4575\n",
      "Epoch 3/100\n",
      "\u001b[1m200/200\u001b[0m \u001b[32m━━━━━━━━━━━━━━━━━━━━\u001b[0m\u001b[37m\u001b[0m \u001b[1m0s\u001b[0m 772us/step - accuracy: 0.8055 - loss: 0.4433 - val_accuracy: 0.8106 - val_loss: 0.4333\n",
      "Epoch 4/100\n",
      "\u001b[1m200/200\u001b[0m \u001b[32m━━━━━━━━━━━━━━━━━━━━\u001b[0m\u001b[37m\u001b[0m \u001b[1m0s\u001b[0m 748us/step - accuracy: 0.8144 - loss: 0.4253 - val_accuracy: 0.8188 - val_loss: 0.4207\n",
      "Epoch 5/100\n",
      "\u001b[1m200/200\u001b[0m \u001b[32m━━━━━━━━━━━━━━━━━━━━\u001b[0m\u001b[37m\u001b[0m \u001b[1m0s\u001b[0m 795us/step - accuracy: 0.8257 - loss: 0.4104 - val_accuracy: 0.8244 - val_loss: 0.4060\n",
      "Epoch 6/100\n",
      "\u001b[1m200/200\u001b[0m \u001b[32m━━━━━━━━━━━━━━━━━━━━\u001b[0m\u001b[37m\u001b[0m \u001b[1m0s\u001b[0m 772us/step - accuracy: 0.8442 - loss: 0.3802 - val_accuracy: 0.8338 - val_loss: 0.3914\n",
      "Epoch 7/100\n",
      "\u001b[1m200/200\u001b[0m \u001b[32m━━━━━━━━━━━━━━━━━━━━\u001b[0m\u001b[37m\u001b[0m \u001b[1m0s\u001b[0m 730us/step - accuracy: 0.8367 - loss: 0.3880 - val_accuracy: 0.8413 - val_loss: 0.3798\n",
      "Epoch 8/100\n",
      "\u001b[1m200/200\u001b[0m \u001b[32m━━━━━━━━━━━━━━━━━━━━\u001b[0m\u001b[37m\u001b[0m \u001b[1m0s\u001b[0m 755us/step - accuracy: 0.8505 - loss: 0.3625 - val_accuracy: 0.8419 - val_loss: 0.3725\n",
      "Epoch 9/100\n",
      "\u001b[1m200/200\u001b[0m \u001b[32m━━━━━━━━━━━━━━━━━━━━\u001b[0m\u001b[37m\u001b[0m \u001b[1m0s\u001b[0m 703us/step - accuracy: 0.8499 - loss: 0.3622 - val_accuracy: 0.8462 - val_loss: 0.3687\n",
      "Epoch 10/100\n",
      "\u001b[1m200/200\u001b[0m \u001b[32m━━━━━━━━━━━━━━━━━━━━\u001b[0m\u001b[37m\u001b[0m \u001b[1m0s\u001b[0m 686us/step - accuracy: 0.8513 - loss: 0.3546 - val_accuracy: 0.8494 - val_loss: 0.3642\n",
      "Epoch 11/100\n",
      "\u001b[1m200/200\u001b[0m \u001b[32m━━━━━━━━━━━━━━━━━━━━\u001b[0m\u001b[37m\u001b[0m \u001b[1m0s\u001b[0m 704us/step - accuracy: 0.8533 - loss: 0.3503 - val_accuracy: 0.8481 - val_loss: 0.3628\n",
      "Epoch 12/100\n",
      "\u001b[1m200/200\u001b[0m \u001b[32m━━━━━━━━━━━━━━━━━━━━\u001b[0m\u001b[37m\u001b[0m \u001b[1m0s\u001b[0m 710us/step - accuracy: 0.8567 - loss: 0.3475 - val_accuracy: 0.8469 - val_loss: 0.3606\n",
      "Epoch 13/100\n",
      "\u001b[1m200/200\u001b[0m \u001b[32m━━━━━━━━━━━━━━━━━━━━\u001b[0m\u001b[37m\u001b[0m \u001b[1m0s\u001b[0m 746us/step - accuracy: 0.8577 - loss: 0.3443 - val_accuracy: 0.8481 - val_loss: 0.3606\n",
      "Epoch 14/100\n",
      "\u001b[1m200/200\u001b[0m \u001b[32m━━━━━━━━━━━━━━━━━━━━\u001b[0m\u001b[37m\u001b[0m \u001b[1m0s\u001b[0m 729us/step - accuracy: 0.8511 - loss: 0.3504 - val_accuracy: 0.8487 - val_loss: 0.3633\n",
      "Epoch 15/100\n",
      "\u001b[1m200/200\u001b[0m \u001b[32m━━━━━━━━━━━━━━━━━━━━\u001b[0m\u001b[37m\u001b[0m \u001b[1m0s\u001b[0m 687us/step - accuracy: 0.8504 - loss: 0.3500 - val_accuracy: 0.8512 - val_loss: 0.3588\n",
      "Epoch 16/100\n",
      "\u001b[1m200/200\u001b[0m \u001b[32m━━━━━━━━━━━━━━━━━━━━\u001b[0m\u001b[37m\u001b[0m \u001b[1m0s\u001b[0m 792us/step - accuracy: 0.8511 - loss: 0.3589 - val_accuracy: 0.8500 - val_loss: 0.3588\n",
      "Epoch 17/100\n",
      "\u001b[1m200/200\u001b[0m \u001b[32m━━━━━━━━━━━━━━━━━━━━\u001b[0m\u001b[37m\u001b[0m \u001b[1m0s\u001b[0m 765us/step - accuracy: 0.8576 - loss: 0.3442 - val_accuracy: 0.8475 - val_loss: 0.3591\n",
      "Epoch 18/100\n",
      "\u001b[1m200/200\u001b[0m \u001b[32m━━━━━━━━━━━━━━━━━━━━\u001b[0m\u001b[37m\u001b[0m \u001b[1m0s\u001b[0m 723us/step - accuracy: 0.8519 - loss: 0.3519 - val_accuracy: 0.8494 - val_loss: 0.3585\n",
      "Epoch 19/100\n",
      "\u001b[1m200/200\u001b[0m \u001b[32m━━━━━━━━━━━━━━━━━━━━\u001b[0m\u001b[37m\u001b[0m \u001b[1m0s\u001b[0m 733us/step - accuracy: 0.8564 - loss: 0.3405 - val_accuracy: 0.8487 - val_loss: 0.3580\n",
      "Epoch 20/100\n",
      "\u001b[1m200/200\u001b[0m \u001b[32m━━━━━━━━━━━━━━━━━━━━\u001b[0m\u001b[37m\u001b[0m \u001b[1m0s\u001b[0m 724us/step - accuracy: 0.8595 - loss: 0.3459 - val_accuracy: 0.8487 - val_loss: 0.3578\n",
      "Epoch 21/100\n",
      "\u001b[1m200/200\u001b[0m \u001b[32m━━━━━━━━━━━━━━━━━━━━\u001b[0m\u001b[37m\u001b[0m \u001b[1m0s\u001b[0m 720us/step - accuracy: 0.8578 - loss: 0.3445 - val_accuracy: 0.8500 - val_loss: 0.3573\n",
      "Epoch 22/100\n",
      "\u001b[1m200/200\u001b[0m \u001b[32m━━━━━━━━━━━━━━━━━━━━\u001b[0m\u001b[37m\u001b[0m \u001b[1m0s\u001b[0m 735us/step - accuracy: 0.8663 - loss: 0.3245 - val_accuracy: 0.8500 - val_loss: 0.3571\n",
      "Epoch 23/100\n",
      "\u001b[1m200/200\u001b[0m \u001b[32m━━━━━━━━━━━━━━━━━━━━\u001b[0m\u001b[37m\u001b[0m \u001b[1m0s\u001b[0m 733us/step - accuracy: 0.8538 - loss: 0.3518 - val_accuracy: 0.8481 - val_loss: 0.3575\n",
      "Epoch 24/100\n",
      "\u001b[1m200/200\u001b[0m \u001b[32m━━━━━━━━━━━━━━━━━━━━\u001b[0m\u001b[37m\u001b[0m \u001b[1m0s\u001b[0m 728us/step - accuracy: 0.8593 - loss: 0.3425 - val_accuracy: 0.8487 - val_loss: 0.3564\n",
      "Epoch 25/100\n",
      "\u001b[1m200/200\u001b[0m \u001b[32m━━━━━━━━━━━━━━━━━━━━\u001b[0m\u001b[37m\u001b[0m \u001b[1m0s\u001b[0m 725us/step - accuracy: 0.8592 - loss: 0.3450 - val_accuracy: 0.8481 - val_loss: 0.3576\n",
      "Epoch 26/100\n",
      "\u001b[1m200/200\u001b[0m \u001b[32m━━━━━━━━━━━━━━━━━━━━\u001b[0m\u001b[37m\u001b[0m \u001b[1m0s\u001b[0m 692us/step - accuracy: 0.8645 - loss: 0.3330 - val_accuracy: 0.8481 - val_loss: 0.3572\n",
      "Epoch 27/100\n",
      "\u001b[1m200/200\u001b[0m \u001b[32m━━━━━━━━━━━━━━━━━━━━\u001b[0m\u001b[37m\u001b[0m \u001b[1m0s\u001b[0m 742us/step - accuracy: 0.8534 - loss: 0.3456 - val_accuracy: 0.8481 - val_loss: 0.3567\n",
      "Epoch 28/100\n",
      "\u001b[1m200/200\u001b[0m \u001b[32m━━━━━━━━━━━━━━━━━━━━\u001b[0m\u001b[37m\u001b[0m \u001b[1m0s\u001b[0m 763us/step - accuracy: 0.8714 - loss: 0.3187 - val_accuracy: 0.8450 - val_loss: 0.3572\n",
      "Epoch 29/100\n",
      "\u001b[1m200/200\u001b[0m \u001b[32m━━━━━━━━━━━━━━━━━━━━\u001b[0m\u001b[37m\u001b[0m \u001b[1m0s\u001b[0m 807us/step - accuracy: 0.8595 - loss: 0.3424 - val_accuracy: 0.8519 - val_loss: 0.3558\n",
      "Epoch 30/100\n",
      "\u001b[1m200/200\u001b[0m \u001b[32m━━━━━━━━━━━━━━━━━━━━\u001b[0m\u001b[37m\u001b[0m \u001b[1m0s\u001b[0m 791us/step - accuracy: 0.8596 - loss: 0.3410 - val_accuracy: 0.8500 - val_loss: 0.3551\n",
      "Epoch 31/100\n",
      "\u001b[1m200/200\u001b[0m \u001b[32m━━━━━━━━━━━━━━━━━━━━\u001b[0m\u001b[37m\u001b[0m \u001b[1m0s\u001b[0m 816us/step - accuracy: 0.8577 - loss: 0.3419 - val_accuracy: 0.8506 - val_loss: 0.3555\n",
      "Epoch 32/100\n",
      "\u001b[1m200/200\u001b[0m \u001b[32m━━━━━━━━━━━━━━━━━━━━\u001b[0m\u001b[37m\u001b[0m \u001b[1m0s\u001b[0m 865us/step - accuracy: 0.8705 - loss: 0.3245 - val_accuracy: 0.8475 - val_loss: 0.3553\n",
      "Epoch 33/100\n",
      "\u001b[1m200/200\u001b[0m \u001b[32m━━━━━━━━━━━━━━━━━━━━\u001b[0m\u001b[37m\u001b[0m \u001b[1m0s\u001b[0m 861us/step - accuracy: 0.8595 - loss: 0.3373 - val_accuracy: 0.8512 - val_loss: 0.3572\n",
      "Epoch 34/100\n",
      "\u001b[1m200/200\u001b[0m \u001b[32m━━━━━━━━━━━━━━━━━━━━\u001b[0m\u001b[37m\u001b[0m \u001b[1m0s\u001b[0m 769us/step - accuracy: 0.8597 - loss: 0.3402 - val_accuracy: 0.8500 - val_loss: 0.3552\n",
      "Epoch 35/100\n",
      "\u001b[1m200/200\u001b[0m \u001b[32m━━━━━━━━━━━━━━━━━━━━\u001b[0m\u001b[37m\u001b[0m \u001b[1m0s\u001b[0m 771us/step - accuracy: 0.8645 - loss: 0.3378 - val_accuracy: 0.8469 - val_loss: 0.3557\n",
      "Epoch 36/100\n",
      "\u001b[1m200/200\u001b[0m \u001b[32m━━━━━━━━━━━━━━━━━━━━\u001b[0m\u001b[37m\u001b[0m \u001b[1m0s\u001b[0m 761us/step - accuracy: 0.8632 - loss: 0.3345 - val_accuracy: 0.8487 - val_loss: 0.3544\n",
      "Epoch 37/100\n",
      "\u001b[1m200/200\u001b[0m \u001b[32m━━━━━━━━━━━━━━━━━━━━\u001b[0m\u001b[37m\u001b[0m \u001b[1m0s\u001b[0m 774us/step - accuracy: 0.8638 - loss: 0.3343 - val_accuracy: 0.8475 - val_loss: 0.3548\n",
      "Epoch 38/100\n",
      "\u001b[1m200/200\u001b[0m \u001b[32m━━━━━━━━━━━━━━━━━━━━\u001b[0m\u001b[37m\u001b[0m \u001b[1m0s\u001b[0m 749us/step - accuracy: 0.8626 - loss: 0.3367 - val_accuracy: 0.8506 - val_loss: 0.3535\n",
      "Epoch 39/100\n",
      "\u001b[1m200/200\u001b[0m \u001b[32m━━━━━━━━━━━━━━━━━━━━\u001b[0m\u001b[37m\u001b[0m \u001b[1m0s\u001b[0m 704us/step - accuracy: 0.8570 - loss: 0.3440 - val_accuracy: 0.8475 - val_loss: 0.3545\n",
      "Epoch 40/100\n",
      "\u001b[1m200/200\u001b[0m \u001b[32m━━━━━━━━━━━━━━━━━━━━\u001b[0m\u001b[37m\u001b[0m \u001b[1m0s\u001b[0m 713us/step - accuracy: 0.8622 - loss: 0.3316 - val_accuracy: 0.8475 - val_loss: 0.3540\n",
      "Epoch 41/100\n",
      "\u001b[1m200/200\u001b[0m \u001b[32m━━━━━━━━━━━━━━━━━━━━\u001b[0m\u001b[37m\u001b[0m \u001b[1m0s\u001b[0m 700us/step - accuracy: 0.8615 - loss: 0.3427 - val_accuracy: 0.8487 - val_loss: 0.3544\n",
      "Epoch 42/100\n",
      "\u001b[1m200/200\u001b[0m \u001b[32m━━━━━━━━━━━━━━━━━━━━\u001b[0m\u001b[37m\u001b[0m \u001b[1m0s\u001b[0m 726us/step - accuracy: 0.8621 - loss: 0.3344 - val_accuracy: 0.8475 - val_loss: 0.3549\n",
      "Epoch 43/100\n",
      "\u001b[1m200/200\u001b[0m \u001b[32m━━━━━━━━━━━━━━━━━━━━\u001b[0m\u001b[37m\u001b[0m \u001b[1m0s\u001b[0m 711us/step - accuracy: 0.8685 - loss: 0.3227 - val_accuracy: 0.8481 - val_loss: 0.3536\n",
      "Epoch 44/100\n",
      "\u001b[1m200/200\u001b[0m \u001b[32m━━━━━━━━━━━━━━━━━━━━\u001b[0m\u001b[37m\u001b[0m \u001b[1m0s\u001b[0m 668us/step - accuracy: 0.8558 - loss: 0.3408 - val_accuracy: 0.8481 - val_loss: 0.3543\n",
      "Epoch 45/100\n",
      "\u001b[1m200/200\u001b[0m \u001b[32m━━━━━━━━━━━━━━━━━━━━\u001b[0m\u001b[37m\u001b[0m \u001b[1m0s\u001b[0m 702us/step - accuracy: 0.8666 - loss: 0.3319 - val_accuracy: 0.8487 - val_loss: 0.3531\n",
      "Epoch 46/100\n",
      "\u001b[1m200/200\u001b[0m \u001b[32m━━━━━━━━━━━━━━━━━━━━\u001b[0m\u001b[37m\u001b[0m \u001b[1m0s\u001b[0m 706us/step - accuracy: 0.8676 - loss: 0.3312 - val_accuracy: 0.8519 - val_loss: 0.3540\n",
      "Epoch 47/100\n",
      "\u001b[1m200/200\u001b[0m \u001b[32m━━━━━━━━━━━━━━━━━━━━\u001b[0m\u001b[37m\u001b[0m \u001b[1m0s\u001b[0m 765us/step - accuracy: 0.8656 - loss: 0.3304 - val_accuracy: 0.8494 - val_loss: 0.3534\n",
      "Epoch 48/100\n",
      "\u001b[1m200/200\u001b[0m \u001b[32m━━━━━━━━━━━━━━━━━━━━\u001b[0m\u001b[37m\u001b[0m \u001b[1m0s\u001b[0m 723us/step - accuracy: 0.8692 - loss: 0.3275 - val_accuracy: 0.8487 - val_loss: 0.3534\n",
      "Epoch 49/100\n",
      "\u001b[1m200/200\u001b[0m \u001b[32m━━━━━━━━━━━━━━━━━━━━\u001b[0m\u001b[37m\u001b[0m \u001b[1m0s\u001b[0m 739us/step - accuracy: 0.8608 - loss: 0.3319 - val_accuracy: 0.8456 - val_loss: 0.3548\n",
      "Epoch 50/100\n",
      "\u001b[1m200/200\u001b[0m \u001b[32m━━━━━━━━━━━━━━━━━━━━\u001b[0m\u001b[37m\u001b[0m \u001b[1m0s\u001b[0m 713us/step - accuracy: 0.8598 - loss: 0.3441 - val_accuracy: 0.8494 - val_loss: 0.3526\n",
      "Epoch 51/100\n",
      "\u001b[1m200/200\u001b[0m \u001b[32m━━━━━━━━━━━━━━━━━━━━\u001b[0m\u001b[37m\u001b[0m \u001b[1m0s\u001b[0m 710us/step - accuracy: 0.8650 - loss: 0.3264 - val_accuracy: 0.8487 - val_loss: 0.3522\n",
      "Epoch 52/100\n",
      "\u001b[1m200/200\u001b[0m \u001b[32m━━━━━━━━━━━━━━━━━━━━\u001b[0m\u001b[37m\u001b[0m \u001b[1m0s\u001b[0m 737us/step - accuracy: 0.8650 - loss: 0.3352 - val_accuracy: 0.8487 - val_loss: 0.3522\n",
      "Epoch 53/100\n",
      "\u001b[1m200/200\u001b[0m \u001b[32m━━━━━━━━━━━━━━━━━━━━\u001b[0m\u001b[37m\u001b[0m \u001b[1m0s\u001b[0m 719us/step - accuracy: 0.8647 - loss: 0.3258 - val_accuracy: 0.8494 - val_loss: 0.3539\n",
      "Epoch 54/100\n",
      "\u001b[1m200/200\u001b[0m \u001b[32m━━━━━━━━━━━━━━━━━━━━\u001b[0m\u001b[37m\u001b[0m \u001b[1m0s\u001b[0m 705us/step - accuracy: 0.8675 - loss: 0.3194 - val_accuracy: 0.8475 - val_loss: 0.3527\n",
      "Epoch 55/100\n",
      "\u001b[1m200/200\u001b[0m \u001b[32m━━━━━━━━━━━━━━━━━━━━\u001b[0m\u001b[37m\u001b[0m \u001b[1m0s\u001b[0m 872us/step - accuracy: 0.8669 - loss: 0.3291 - val_accuracy: 0.8487 - val_loss: 0.3538\n",
      "Epoch 56/100\n",
      "\u001b[1m200/200\u001b[0m \u001b[32m━━━━━━━━━━━━━━━━━━━━\u001b[0m\u001b[37m\u001b[0m \u001b[1m0s\u001b[0m 720us/step - accuracy: 0.8611 - loss: 0.3328 - val_accuracy: 0.8481 - val_loss: 0.3536\n",
      "Epoch 57/100\n",
      "\u001b[1m200/200\u001b[0m \u001b[32m━━━━━━━━━━━━━━━━━━━━\u001b[0m\u001b[37m\u001b[0m \u001b[1m0s\u001b[0m 724us/step - accuracy: 0.8678 - loss: 0.3225 - val_accuracy: 0.8475 - val_loss: 0.3528\n",
      "Epoch 58/100\n",
      "\u001b[1m200/200\u001b[0m \u001b[32m━━━━━━━━━━━━━━━━━━━━\u001b[0m\u001b[37m\u001b[0m \u001b[1m0s\u001b[0m 726us/step - accuracy: 0.8676 - loss: 0.3209 - val_accuracy: 0.8494 - val_loss: 0.3523\n",
      "Epoch 59/100\n",
      "\u001b[1m200/200\u001b[0m \u001b[32m━━━━━━━━━━━━━━━━━━━━\u001b[0m\u001b[37m\u001b[0m \u001b[1m0s\u001b[0m 716us/step - accuracy: 0.8544 - loss: 0.3367 - val_accuracy: 0.8487 - val_loss: 0.3526\n",
      "Epoch 60/100\n",
      "\u001b[1m200/200\u001b[0m \u001b[32m━━━━━━━━━━━━━━━━━━━━\u001b[0m\u001b[37m\u001b[0m \u001b[1m0s\u001b[0m 736us/step - accuracy: 0.8639 - loss: 0.3299 - val_accuracy: 0.8475 - val_loss: 0.3523\n",
      "Epoch 61/100\n",
      "\u001b[1m200/200\u001b[0m \u001b[32m━━━━━━━━━━━━━━━━━━━━\u001b[0m\u001b[37m\u001b[0m \u001b[1m0s\u001b[0m 717us/step - accuracy: 0.8591 - loss: 0.3341 - val_accuracy: 0.8500 - val_loss: 0.3526\n",
      "Epoch 62/100\n",
      "\u001b[1m200/200\u001b[0m \u001b[32m━━━━━━━━━━━━━━━━━━━━\u001b[0m\u001b[37m\u001b[0m \u001b[1m0s\u001b[0m 721us/step - accuracy: 0.8651 - loss: 0.3260 - val_accuracy: 0.8481 - val_loss: 0.3552\n",
      "Epoch 63/100\n",
      "\u001b[1m200/200\u001b[0m \u001b[32m━━━━━━━━━━━━━━━━━━━━\u001b[0m\u001b[37m\u001b[0m \u001b[1m0s\u001b[0m 732us/step - accuracy: 0.8676 - loss: 0.3202 - val_accuracy: 0.8462 - val_loss: 0.3535\n",
      "Epoch 64/100\n",
      "\u001b[1m200/200\u001b[0m \u001b[32m━━━━━━━━━━━━━━━━━━━━\u001b[0m\u001b[37m\u001b[0m \u001b[1m0s\u001b[0m 709us/step - accuracy: 0.8577 - loss: 0.3413 - val_accuracy: 0.8456 - val_loss: 0.3524\n",
      "Epoch 65/100\n",
      "\u001b[1m200/200\u001b[0m \u001b[32m━━━━━━━━━━━━━━━━━━━━\u001b[0m\u001b[37m\u001b[0m \u001b[1m0s\u001b[0m 733us/step - accuracy: 0.8652 - loss: 0.3349 - val_accuracy: 0.8469 - val_loss: 0.3535\n",
      "Epoch 66/100\n",
      "\u001b[1m200/200\u001b[0m \u001b[32m━━━━━━━━━━━━━━━━━━━━\u001b[0m\u001b[37m\u001b[0m \u001b[1m0s\u001b[0m 723us/step - accuracy: 0.8653 - loss: 0.3293 - val_accuracy: 0.8469 - val_loss: 0.3526\n",
      "Epoch 67/100\n",
      "\u001b[1m200/200\u001b[0m \u001b[32m━━━━━━━━━━━━━━━━━━━━\u001b[0m\u001b[37m\u001b[0m \u001b[1m0s\u001b[0m 708us/step - accuracy: 0.8678 - loss: 0.3226 - val_accuracy: 0.8462 - val_loss: 0.3535\n",
      "Epoch 68/100\n",
      "\u001b[1m200/200\u001b[0m \u001b[32m━━━━━━━━━━━━━━━━━━━━\u001b[0m\u001b[37m\u001b[0m \u001b[1m0s\u001b[0m 719us/step - accuracy: 0.8581 - loss: 0.3301 - val_accuracy: 0.8487 - val_loss: 0.3535\n",
      "Epoch 69/100\n",
      "\u001b[1m200/200\u001b[0m \u001b[32m━━━━━━━━━━━━━━━━━━━━\u001b[0m\u001b[37m\u001b[0m \u001b[1m0s\u001b[0m 675us/step - accuracy: 0.8664 - loss: 0.3321 - val_accuracy: 0.8456 - val_loss: 0.3538\n",
      "Epoch 70/100\n",
      "\u001b[1m200/200\u001b[0m \u001b[32m━━━━━━━━━━━━━━━━━━━━\u001b[0m\u001b[37m\u001b[0m \u001b[1m0s\u001b[0m 704us/step - accuracy: 0.8673 - loss: 0.3326 - val_accuracy: 0.8481 - val_loss: 0.3525\n",
      "Epoch 71/100\n",
      "\u001b[1m200/200\u001b[0m \u001b[32m━━━━━━━━━━━━━━━━━━━━\u001b[0m\u001b[37m\u001b[0m \u001b[1m0s\u001b[0m 676us/step - accuracy: 0.8690 - loss: 0.3222 - val_accuracy: 0.8481 - val_loss: 0.3542\n",
      "Epoch 72/100\n",
      "\u001b[1m200/200\u001b[0m \u001b[32m━━━━━━━━━━━━━━━━━━━━\u001b[0m\u001b[37m\u001b[0m \u001b[1m0s\u001b[0m 681us/step - accuracy: 0.8584 - loss: 0.3463 - val_accuracy: 0.8475 - val_loss: 0.3539\n",
      "Epoch 73/100\n",
      "\u001b[1m200/200\u001b[0m \u001b[32m━━━━━━━━━━━━━━━━━━━━\u001b[0m\u001b[37m\u001b[0m \u001b[1m0s\u001b[0m 704us/step - accuracy: 0.8778 - loss: 0.3074 - val_accuracy: 0.8469 - val_loss: 0.3533\n",
      "Epoch 74/100\n",
      "\u001b[1m200/200\u001b[0m \u001b[32m━━━━━━━━━━━━━━━━━━━━\u001b[0m\u001b[37m\u001b[0m \u001b[1m0s\u001b[0m 699us/step - accuracy: 0.8708 - loss: 0.3225 - val_accuracy: 0.8456 - val_loss: 0.3526\n",
      "Epoch 75/100\n",
      "\u001b[1m200/200\u001b[0m \u001b[32m━━━━━━━━━━━━━━━━━━━━\u001b[0m\u001b[37m\u001b[0m \u001b[1m0s\u001b[0m 726us/step - accuracy: 0.8638 - loss: 0.3316 - val_accuracy: 0.8481 - val_loss: 0.3528\n",
      "Epoch 76/100\n",
      "\u001b[1m200/200\u001b[0m \u001b[32m━━━━━━━━━━━━━━━━━━━━\u001b[0m\u001b[37m\u001b[0m \u001b[1m0s\u001b[0m 764us/step - accuracy: 0.8594 - loss: 0.3379 - val_accuracy: 0.8500 - val_loss: 0.3531\n",
      "Epoch 77/100\n",
      "\u001b[1m200/200\u001b[0m \u001b[32m━━━━━━━━━━━━━━━━━━━━\u001b[0m\u001b[37m\u001b[0m \u001b[1m0s\u001b[0m 718us/step - accuracy: 0.8637 - loss: 0.3287 - val_accuracy: 0.8475 - val_loss: 0.3528\n",
      "Epoch 78/100\n",
      "\u001b[1m200/200\u001b[0m \u001b[32m━━━━━━━━━━━━━━━━━━━━\u001b[0m\u001b[37m\u001b[0m \u001b[1m0s\u001b[0m 708us/step - accuracy: 0.8747 - loss: 0.3120 - val_accuracy: 0.8475 - val_loss: 0.3529\n",
      "Epoch 79/100\n",
      "\u001b[1m200/200\u001b[0m \u001b[32m━━━━━━━━━━━━━━━━━━━━\u001b[0m\u001b[37m\u001b[0m \u001b[1m0s\u001b[0m 801us/step - accuracy: 0.8629 - loss: 0.3308 - val_accuracy: 0.8475 - val_loss: 0.3526\n",
      "Epoch 80/100\n",
      "\u001b[1m200/200\u001b[0m \u001b[32m━━━━━━━━━━━━━━━━━━━━\u001b[0m\u001b[37m\u001b[0m \u001b[1m0s\u001b[0m 697us/step - accuracy: 0.8717 - loss: 0.3222 - val_accuracy: 0.8469 - val_loss: 0.3536\n",
      "Epoch 81/100\n",
      "\u001b[1m200/200\u001b[0m \u001b[32m━━━━━━━━━━━━━━━━━━━━\u001b[0m\u001b[37m\u001b[0m \u001b[1m0s\u001b[0m 722us/step - accuracy: 0.8641 - loss: 0.3245 - val_accuracy: 0.8481 - val_loss: 0.3520\n",
      "Epoch 82/100\n",
      "\u001b[1m200/200\u001b[0m \u001b[32m━━━━━━━━━━━━━━━━━━━━\u001b[0m\u001b[37m\u001b[0m \u001b[1m0s\u001b[0m 726us/step - accuracy: 0.8646 - loss: 0.3297 - val_accuracy: 0.8475 - val_loss: 0.3520\n",
      "Epoch 83/100\n",
      "\u001b[1m200/200\u001b[0m \u001b[32m━━━━━━━━━━━━━━━━━━━━\u001b[0m\u001b[37m\u001b[0m \u001b[1m0s\u001b[0m 716us/step - accuracy: 0.8755 - loss: 0.3144 - val_accuracy: 0.8462 - val_loss: 0.3530\n",
      "Epoch 84/100\n",
      "\u001b[1m200/200\u001b[0m \u001b[32m━━━━━━━━━━━━━━━━━━━━\u001b[0m\u001b[37m\u001b[0m \u001b[1m0s\u001b[0m 718us/step - accuracy: 0.8685 - loss: 0.3267 - val_accuracy: 0.8462 - val_loss: 0.3522\n",
      "Epoch 85/100\n",
      "\u001b[1m200/200\u001b[0m \u001b[32m━━━━━━━━━━━━━━━━━━━━\u001b[0m\u001b[37m\u001b[0m \u001b[1m0s\u001b[0m 742us/step - accuracy: 0.8675 - loss: 0.3287 - val_accuracy: 0.8469 - val_loss: 0.3532\n",
      "Epoch 86/100\n",
      "\u001b[1m200/200\u001b[0m \u001b[32m━━━━━━━━━━━━━━━━━━━━\u001b[0m\u001b[37m\u001b[0m \u001b[1m0s\u001b[0m 718us/step - accuracy: 0.8673 - loss: 0.3237 - val_accuracy: 0.8462 - val_loss: 0.3517\n",
      "Epoch 87/100\n",
      "\u001b[1m200/200\u001b[0m \u001b[32m━━━━━━━━━━━━━━━━━━━━\u001b[0m\u001b[37m\u001b[0m \u001b[1m0s\u001b[0m 702us/step - accuracy: 0.8625 - loss: 0.3247 - val_accuracy: 0.8462 - val_loss: 0.3534\n",
      "Epoch 88/100\n",
      "\u001b[1m200/200\u001b[0m \u001b[32m━━━━━━━━━━━━━━━━━━━━\u001b[0m\u001b[37m\u001b[0m \u001b[1m0s\u001b[0m 700us/step - accuracy: 0.8623 - loss: 0.3321 - val_accuracy: 0.8475 - val_loss: 0.3517\n",
      "Epoch 89/100\n",
      "\u001b[1m200/200\u001b[0m \u001b[32m━━━━━━━━━━━━━━━━━━━━\u001b[0m\u001b[37m\u001b[0m \u001b[1m0s\u001b[0m 715us/step - accuracy: 0.8711 - loss: 0.3193 - val_accuracy: 0.8481 - val_loss: 0.3516\n",
      "Epoch 90/100\n",
      "\u001b[1m200/200\u001b[0m \u001b[32m━━━━━━━━━━━━━━━━━━━━\u001b[0m\u001b[37m\u001b[0m \u001b[1m0s\u001b[0m 699us/step - accuracy: 0.8643 - loss: 0.3311 - val_accuracy: 0.8481 - val_loss: 0.3519\n",
      "Epoch 91/100\n",
      "\u001b[1m200/200\u001b[0m \u001b[32m━━━━━━━━━━━━━━━━━━━━\u001b[0m\u001b[37m\u001b[0m \u001b[1m0s\u001b[0m 740us/step - accuracy: 0.8701 - loss: 0.3245 - val_accuracy: 0.8462 - val_loss: 0.3513\n",
      "Epoch 92/100\n",
      "\u001b[1m200/200\u001b[0m \u001b[32m━━━━━━━━━━━━━━━━━━━━\u001b[0m\u001b[37m\u001b[0m \u001b[1m0s\u001b[0m 799us/step - accuracy: 0.8669 - loss: 0.3212 - val_accuracy: 0.8494 - val_loss: 0.3506\n",
      "Epoch 93/100\n",
      "\u001b[1m200/200\u001b[0m \u001b[32m━━━━━━━━━━━━━━━━━━━━\u001b[0m\u001b[37m\u001b[0m \u001b[1m0s\u001b[0m 741us/step - accuracy: 0.8623 - loss: 0.3285 - val_accuracy: 0.8487 - val_loss: 0.3509\n",
      "Epoch 94/100\n",
      "\u001b[1m200/200\u001b[0m \u001b[32m━━━━━━━━━━━━━━━━━━━━\u001b[0m\u001b[37m\u001b[0m \u001b[1m0s\u001b[0m 738us/step - accuracy: 0.8696 - loss: 0.3240 - val_accuracy: 0.8444 - val_loss: 0.3518\n",
      "Epoch 95/100\n",
      "\u001b[1m200/200\u001b[0m \u001b[32m━━━━━━━━━━━━━━━━━━━━\u001b[0m\u001b[37m\u001b[0m \u001b[1m0s\u001b[0m 753us/step - accuracy: 0.8664 - loss: 0.3270 - val_accuracy: 0.8481 - val_loss: 0.3521\n",
      "Epoch 96/100\n",
      "\u001b[1m200/200\u001b[0m \u001b[32m━━━━━━━━━━━━━━━━━━━━\u001b[0m\u001b[37m\u001b[0m \u001b[1m0s\u001b[0m 742us/step - accuracy: 0.8713 - loss: 0.3139 - val_accuracy: 0.8462 - val_loss: 0.3512\n",
      "Epoch 97/100\n",
      "\u001b[1m200/200\u001b[0m \u001b[32m━━━━━━━━━━━━━━━━━━━━\u001b[0m\u001b[37m\u001b[0m \u001b[1m0s\u001b[0m 741us/step - accuracy: 0.8663 - loss: 0.3209 - val_accuracy: 0.8475 - val_loss: 0.3520\n",
      "Epoch 98/100\n",
      "\u001b[1m200/200\u001b[0m \u001b[32m━━━━━━━━━━━━━━━━━━━━\u001b[0m\u001b[37m\u001b[0m \u001b[1m0s\u001b[0m 727us/step - accuracy: 0.8643 - loss: 0.3232 - val_accuracy: 0.8462 - val_loss: 0.3511\n",
      "Epoch 99/100\n",
      "\u001b[1m200/200\u001b[0m \u001b[32m━━━━━━━━━━━━━━━━━━━━\u001b[0m\u001b[37m\u001b[0m \u001b[1m0s\u001b[0m 725us/step - accuracy: 0.8645 - loss: 0.3233 - val_accuracy: 0.8487 - val_loss: 0.3528\n",
      "Epoch 100/100\n",
      "\u001b[1m200/200\u001b[0m \u001b[32m━━━━━━━━━━━━━━━━━━━━\u001b[0m\u001b[37m\u001b[0m \u001b[1m0s\u001b[0m 705us/step - accuracy: 0.8626 - loss: 0.3356 - val_accuracy: 0.8475 - val_loss: 0.3519\n"
     ]
    }
   ],
   "source": [
    "history = model.fit( X_train_scaled,y_train,epochs=100, validation_split=0.2)"
   ]
  },
  {
   "cell_type": "code",
   "execution_count": 22,
   "id": "ebcc81c2-33ac-4a53-9b2b-6da6c36357ee",
   "metadata": {
    "tags": []
   },
   "outputs": [
    {
     "name": "stdout",
     "output_type": "stream",
     "text": [
      "[array([[ 0.3546684 ,  0.02675646, -0.36711776,  0.10581878, -0.120515  ,\n",
      "         0.38595793, -0.06152368, -0.00526781,  0.07901054, -0.36207715,\n",
      "        -0.32898116],\n",
      "       [-0.77259266,  0.8453877 , -0.52784467, -0.15931274,  0.92261153,\n",
      "         0.50819093,  0.3267572 ,  0.02088728,  0.49200156,  0.20512359,\n",
      "        -0.36682606],\n",
      "       [-0.19174257,  0.13791524,  0.3751533 ,  0.10590832,  0.05834831,\n",
      "        -0.03306386,  0.02411185,  0.24964653,  0.27804285, -0.1473408 ,\n",
      "         0.10400651],\n",
      "       [ 0.2804825 ,  0.21904194,  0.04233838,  0.22621311, -0.52916825,\n",
      "         0.16782454,  0.8156121 , -0.3423677 , -0.25953737, -0.06788338,\n",
      "        -0.13225727],\n",
      "       [ 0.34684727, -0.02027373, -0.14180803,  0.23728767, -0.674931  ,\n",
      "        -0.7789042 ,  0.9279317 ,  1.3281724 ,  0.2166576 , -0.15829009,\n",
      "        -0.05745486],\n",
      "       [-0.35962915,  0.16328022,  0.2927628 ,  0.5989624 , -0.31819   ,\n",
      "         0.07807246, -0.2055365 , -0.14077777, -0.03632853, -0.37959838,\n",
      "        -0.20666909],\n",
      "       [-0.29826805,  0.95398396, -0.109507  ,  0.14762728, -0.32460624,\n",
      "        -0.48351434, -0.08130562,  0.24951416,  0.45692495,  0.35995695,\n",
      "        -0.53624815],\n",
      "       [ 0.1656472 ,  0.11361988, -0.12865315,  0.03174867, -0.23719642,\n",
      "         0.26027876,  0.20104316,  0.04210914,  0.09753843,  0.42236862,\n",
      "        -0.25619388],\n",
      "       [-0.14875318, -0.14638431,  0.74949276, -0.40929008, -0.10287397,\n",
      "         0.24462874, -0.571549  ,  0.0898359 , -0.41666025,  0.06312623,\n",
      "        -0.6703988 ],\n",
      "       [-0.3817166 ,  0.02565269, -0.31284478, -0.4530407 ,  0.28782663,\n",
      "        -0.3055942 ,  0.16063233,  0.200642  ,  0.6836629 , -0.355862  ,\n",
      "         0.16265114],\n",
      "       [ 0.1208674 ,  0.08700054, -0.1474688 ,  0.29787296,  0.03052785,\n",
      "         0.02351524,  0.0646185 ,  0.04524786,  0.3147809 ,  0.0431415 ,\n",
      "         0.07804815]], dtype=float32), array([ 0.7893684 , -0.37661934, -0.5268364 , -0.03213666,  0.02165867,\n",
      "        0.2363618 , -0.10006869, -0.10637181,  0.27819398,  0.51068443,\n",
      "        0.1813996 ], dtype=float32)]\n",
      "\n",
      "\n",
      "[array([[-2.5278530e-01, -8.1364566e-01, -1.4910987e-01, -3.2145149e-01,\n",
      "         4.7406828e-01, -1.8527001e-01,  1.4106101e-01,  5.7868892e-01,\n",
      "         1.5306382e-01, -1.9449882e-01,  4.7680035e-01],\n",
      "       [-3.3675623e-01, -1.0098233e+00,  4.7036059e-02, -8.8430780e-01,\n",
      "         5.1047418e-02, -7.1107477e-01, -3.3862150e-01,  1.4845890e-02,\n",
      "        -3.1113407e-01, -1.0050769e+00,  1.1372599e-01],\n",
      "       [ 4.7353619e-01,  2.6237052e-02, -3.7467858e-01, -4.3984562e-01,\n",
      "        -2.8980565e-01,  3.3725733e-01,  3.7971544e-01,  4.2698506e-02,\n",
      "         1.6548619e-01, -3.6207682e-01, -6.8567738e-02],\n",
      "       [-9.7391039e-02,  2.6100713e-01,  5.6433856e-01,  5.6654029e-02,\n",
      "         2.9817170e-01,  9.7666222e-01, -8.7388210e-02,  7.1631056e-01,\n",
      "         5.5214965e-01, -1.6948287e-01, -9.9106327e-02],\n",
      "       [ 2.8647989e-01,  3.7902227e-01, -4.4353977e-01,  3.0300024e-01,\n",
      "         4.5831931e-01, -5.4657382e-01,  1.5921199e-01,  3.5801157e-02,\n",
      "        -6.0588253e-01,  5.9580743e-01,  4.1439027e-01],\n",
      "       [ 6.4768744e-01,  3.2758644e-01, -1.2058508e+00, -2.0942928e-02,\n",
      "         3.5386094e-01, -7.2883868e-01,  5.7158828e-01, -2.2895059e-01,\n",
      "         2.4848114e-01,  2.3252752e-01, -1.2628071e-01],\n",
      "       [-4.8021667e-02,  8.6061031e-01,  6.8171906e-01, -9.2805833e-01,\n",
      "        -2.7018309e-01, -6.6507742e-02, -5.3250748e-01, -4.3505961e-01,\n",
      "        -2.9831836e-01,  5.5855185e-01, -2.8076863e-01],\n",
      "       [-5.6257200e-01,  8.4970599e-01,  6.9969308e-01, -1.5354522e+00,\n",
      "        -9.2346984e-04,  7.4425653e-02,  3.3050591e-01,  2.3968364e-01,\n",
      "        -1.1451190e-01,  4.6548456e-01,  6.0126650e-01],\n",
      "       [ 2.9415980e-01, -2.7878162e-01, -1.3534896e-01,  5.3368086e-01,\n",
      "         4.3886048e-01,  3.9028114e-01,  2.7813846e-01,  8.2007289e-01,\n",
      "         4.6858576e-01, -5.1498748e-02,  9.2417336e-01],\n",
      "       [ 1.1356140e-01, -4.0017903e-01, -4.5366356e-01,  7.1485347e-01,\n",
      "        -5.4802217e-02,  3.2328415e-01,  2.4147932e-01,  1.5571257e-02,\n",
      "        -1.6645756e-01, -2.2558967e-02,  3.1246129e-01],\n",
      "       [ 3.6344847e-01, -3.8838288e-01, -2.4516849e-01, -2.4368288e-01,\n",
      "         8.8096611e-02, -1.5803334e-01,  3.1740302e-01,  3.4313256e-01,\n",
      "         6.0814780e-01, -8.3038878e-01,  3.2281116e-01]], dtype=float32), array([-0.11218268, -0.31849402, -0.5267874 , -0.21462248,  0.29015708,\n",
      "        0.8017574 ,  0.24441089,  0.41540205,  0.48036504, -0.32072946,\n",
      "        0.23833771], dtype=float32)]\n"
     ]
    }
   ],
   "source": [
    "print(model.layers[0].get_weights())\n",
    "print()\n",
    "print()\n",
    "print(model.layers[1].get_weights())"
   ]
  },
  {
   "cell_type": "code",
   "execution_count": 23,
   "id": "1219fb57-a08f-468f-b434-5b60baccb78c",
   "metadata": {
    "tags": []
   },
   "outputs": [
    {
     "name": "stdout",
     "output_type": "stream",
     "text": [
      "\u001b[1m63/63\u001b[0m \u001b[32m━━━━━━━━━━━━━━━━━━━━\u001b[0m\u001b[37m\u001b[0m \u001b[1m0s\u001b[0m 831us/step\n"
     ]
    }
   ],
   "source": [
    "y_log = model.predict(X_test)"
   ]
  },
  {
   "cell_type": "code",
   "execution_count": 24,
   "id": "c84e42cb-a02e-4c92-8e87-7d0a523f15ee",
   "metadata": {
    "tags": []
   },
   "outputs": [],
   "source": [
    "y_pred = np.where( y_log>0.5 , 1, 0)"
   ]
  },
  {
   "cell_type": "code",
   "execution_count": 25,
   "id": "f778fe74-c85c-4c4e-9fd6-068508f75b87",
   "metadata": {
    "tags": []
   },
   "outputs": [
    {
     "data": {
      "text/plain": [
       "0.4655"
      ]
     },
     "execution_count": 25,
     "metadata": {},
     "output_type": "execute_result"
    }
   ],
   "source": [
    "from sklearn.metrics import accuracy_score\n",
    "accuracy_score(y_test , y_pred)"
   ]
  },
  {
   "cell_type": "code",
   "execution_count": 26,
   "id": "bbb7de0a-583c-4537-ae57-756aaa3b0ccf",
   "metadata": {
    "tags": []
   },
   "outputs": [],
   "source": [
    "import matplotlib.pyplot as plt"
   ]
  },
  {
   "cell_type": "code",
   "execution_count": 27,
   "id": "bdfc72e3-85f6-4dd5-bad6-7941bf29f5b2",
   "metadata": {
    "tags": []
   },
   "outputs": [
    {
     "data": {
      "text/plain": [
       "{'accuracy': [0.6182812452316284,\n",
       "  0.797656238079071,\n",
       "  0.8106250166893005,\n",
       "  0.8217187523841858,\n",
       "  0.8296874761581421,\n",
       "  0.83984375,\n",
       "  0.8435937762260437,\n",
       "  0.8493750095367432,\n",
       "  0.8501562476158142,\n",
       "  0.8520312309265137,\n",
       "  0.852343738079071,\n",
       "  0.8545312285423279,\n",
       "  0.8559374809265137,\n",
       "  0.8535937666893005,\n",
       "  0.8553125262260437,\n",
       "  0.854687511920929,\n",
       "  0.8568750023841858,\n",
       "  0.8582812547683716,\n",
       "  0.8567187786102295,\n",
       "  0.8584374785423279,\n",
       "  0.8584374785423279,\n",
       "  0.8589062690734863,\n",
       "  0.860156238079071,\n",
       "  0.8614062666893005,\n",
       "  0.8606250286102295,\n",
       "  0.8614062666893005,\n",
       "  0.8614062666893005,\n",
       "  0.8631250262260437,\n",
       "  0.862500011920929,\n",
       "  0.8615624904632568,\n",
       "  0.8617187738418579,\n",
       "  0.8621875047683716,\n",
       "  0.8606250286102295,\n",
       "  0.8629687428474426,\n",
       "  0.8631250262260437,\n",
       "  0.8635937571525574,\n",
       "  0.8623437285423279,\n",
       "  0.8646875023841858,\n",
       "  0.8628125190734863,\n",
       "  0.8614062666893005,\n",
       "  0.8635937571525574,\n",
       "  0.8637499809265137,\n",
       "  0.8642187714576721,\n",
       "  0.8635937571525574,\n",
       "  0.8635937571525574,\n",
       "  0.8639062643051147,\n",
       "  0.8645312786102295,\n",
       "  0.8642187714576721,\n",
       "  0.862500011920929,\n",
       "  0.8634374737739563,\n",
       "  0.8637499809265137,\n",
       "  0.8626562356948853,\n",
       "  0.8621875047683716,\n",
       "  0.8634374737739563,\n",
       "  0.8654687404632568,\n",
       "  0.8631250262260437,\n",
       "  0.8659374713897705,\n",
       "  0.8634374737739563,\n",
       "  0.86328125,\n",
       "  0.8650000095367432,\n",
       "  0.8654687404632568,\n",
       "  0.8650000095367432,\n",
       "  0.8653125166893005,\n",
       "  0.8657812476158142,\n",
       "  0.8648437261581421,\n",
       "  0.8648437261581421,\n",
       "  0.8653125166893005,\n",
       "  0.8646875023841858,\n",
       "  0.8656250238418579,\n",
       "  0.8662499785423279,\n",
       "  0.8651562333106995,\n",
       "  0.8653125166893005,\n",
       "  0.8651562333106995,\n",
       "  0.8653125166893005,\n",
       "  0.8660937547683716,\n",
       "  0.8653125166893005,\n",
       "  0.8654687404632568,\n",
       "  0.8653125166893005,\n",
       "  0.8650000095367432,\n",
       "  0.8654687404632568,\n",
       "  0.8656250238418579,\n",
       "  0.8673437237739563,\n",
       "  0.8670312762260437,\n",
       "  0.8662499785423279,\n",
       "  0.8665624856948853,\n",
       "  0.8648437261581421,\n",
       "  0.8668749928474426,\n",
       "  0.8648437261581421,\n",
       "  0.8657812476158142,\n",
       "  0.8662499785423279,\n",
       "  0.8668749928474426,\n",
       "  0.8650000095367432,\n",
       "  0.8651562333106995,\n",
       "  0.8665624856948853,\n",
       "  0.8657812476158142,\n",
       "  0.8660937547683716,\n",
       "  0.8653125166893005,\n",
       "  0.8670312762260437,\n",
       "  0.8645312786102295,\n",
       "  0.8650000095367432],\n",
       " 'loss': [0.6645807027816772,\n",
       "  0.477469265460968,\n",
       "  0.432593435049057,\n",
       "  0.41435542702674866,\n",
       "  0.4012684226036072,\n",
       "  0.38812991976737976,\n",
       "  0.3757062554359436,\n",
       "  0.3666089177131653,\n",
       "  0.36058738827705383,\n",
       "  0.35657063126564026,\n",
       "  0.35360202193260193,\n",
       "  0.35142266750335693,\n",
       "  0.3503035604953766,\n",
       "  0.34847357869148254,\n",
       "  0.3473983407020569,\n",
       "  0.345732718706131,\n",
       "  0.3446587026119232,\n",
       "  0.3437896966934204,\n",
       "  0.34321168065071106,\n",
       "  0.3424701690673828,\n",
       "  0.3412972688674927,\n",
       "  0.34112587571144104,\n",
       "  0.3405516743659973,\n",
       "  0.34001976251602173,\n",
       "  0.33938121795654297,\n",
       "  0.3389599323272705,\n",
       "  0.338375449180603,\n",
       "  0.3377680480480194,\n",
       "  0.3375217914581299,\n",
       "  0.33748263120651245,\n",
       "  0.33657974004745483,\n",
       "  0.3359949588775635,\n",
       "  0.33620762825012207,\n",
       "  0.3363787531852722,\n",
       "  0.3355955183506012,\n",
       "  0.33506157994270325,\n",
       "  0.33484986424446106,\n",
       "  0.3344769775867462,\n",
       "  0.3341964781284332,\n",
       "  0.3338468670845032,\n",
       "  0.3333723843097687,\n",
       "  0.3333721160888672,\n",
       "  0.3331338167190552,\n",
       "  0.3332277238368988,\n",
       "  0.3330976366996765,\n",
       "  0.33278462290763855,\n",
       "  0.3331754803657532,\n",
       "  0.3322744071483612,\n",
       "  0.33209678530693054,\n",
       "  0.3322332799434662,\n",
       "  0.3316349685192108,\n",
       "  0.331572562456131,\n",
       "  0.33114200830459595,\n",
       "  0.3314235210418701,\n",
       "  0.33112648129463196,\n",
       "  0.33104607462882996,\n",
       "  0.3308849632740021,\n",
       "  0.33064234256744385,\n",
       "  0.33007049560546875,\n",
       "  0.3307906985282898,\n",
       "  0.33022767305374146,\n",
       "  0.3294353187084198,\n",
       "  0.32940873503685,\n",
       "  0.329425573348999,\n",
       "  0.329141229391098,\n",
       "  0.32936203479766846,\n",
       "  0.32883644104003906,\n",
       "  0.3290984332561493,\n",
       "  0.3288780152797699,\n",
       "  0.3289039731025696,\n",
       "  0.32868891954421997,\n",
       "  0.3280012011528015,\n",
       "  0.3279000520706177,\n",
       "  0.32846325635910034,\n",
       "  0.32774001359939575,\n",
       "  0.32753247022628784,\n",
       "  0.32751426100730896,\n",
       "  0.32699868083000183,\n",
       "  0.3270917236804962,\n",
       "  0.3267231285572052,\n",
       "  0.326749712228775,\n",
       "  0.3263809084892273,\n",
       "  0.32651421427726746,\n",
       "  0.32662296295166016,\n",
       "  0.3262651562690735,\n",
       "  0.3263150453567505,\n",
       "  0.3259383738040924,\n",
       "  0.32575473189353943,\n",
       "  0.325467973947525,\n",
       "  0.32538673281669617,\n",
       "  0.32589980959892273,\n",
       "  0.3257296085357666,\n",
       "  0.3253597021102905,\n",
       "  0.3254845142364502,\n",
       "  0.32478833198547363,\n",
       "  0.3244386911392212,\n",
       "  0.3248593509197235,\n",
       "  0.3250594735145569,\n",
       "  0.32415059208869934,\n",
       "  0.32459235191345215],\n",
       " 'val_accuracy': [0.7975000143051147,\n",
       "  0.8006250262260437,\n",
       "  0.8106250166893005,\n",
       "  0.8187500238418579,\n",
       "  0.8243749737739563,\n",
       "  0.8337500095367432,\n",
       "  0.8412500023841858,\n",
       "  0.8418750166893005,\n",
       "  0.8462499976158142,\n",
       "  0.8493750095367432,\n",
       "  0.8481249809265137,\n",
       "  0.846875011920929,\n",
       "  0.8481249809265137,\n",
       "  0.8487499952316284,\n",
       "  0.8512499928474426,\n",
       "  0.8500000238418579,\n",
       "  0.8475000262260437,\n",
       "  0.8493750095367432,\n",
       "  0.8487499952316284,\n",
       "  0.8487499952316284,\n",
       "  0.8500000238418579,\n",
       "  0.8500000238418579,\n",
       "  0.8481249809265137,\n",
       "  0.8487499952316284,\n",
       "  0.8481249809265137,\n",
       "  0.8481249809265137,\n",
       "  0.8481249809265137,\n",
       "  0.8450000286102295,\n",
       "  0.8518750071525574,\n",
       "  0.8500000238418579,\n",
       "  0.8506249785423279,\n",
       "  0.8475000262260437,\n",
       "  0.8512499928474426,\n",
       "  0.8500000238418579,\n",
       "  0.846875011920929,\n",
       "  0.8487499952316284,\n",
       "  0.8475000262260437,\n",
       "  0.8506249785423279,\n",
       "  0.8475000262260437,\n",
       "  0.8475000262260437,\n",
       "  0.8487499952316284,\n",
       "  0.8475000262260437,\n",
       "  0.8481249809265137,\n",
       "  0.8481249809265137,\n",
       "  0.8487499952316284,\n",
       "  0.8518750071525574,\n",
       "  0.8493750095367432,\n",
       "  0.8487499952316284,\n",
       "  0.8456249833106995,\n",
       "  0.8493750095367432,\n",
       "  0.8487499952316284,\n",
       "  0.8487499952316284,\n",
       "  0.8493750095367432,\n",
       "  0.8475000262260437,\n",
       "  0.8487499952316284,\n",
       "  0.8481249809265137,\n",
       "  0.8475000262260437,\n",
       "  0.8493750095367432,\n",
       "  0.8487499952316284,\n",
       "  0.8475000262260437,\n",
       "  0.8500000238418579,\n",
       "  0.8481249809265137,\n",
       "  0.8462499976158142,\n",
       "  0.8456249833106995,\n",
       "  0.846875011920929,\n",
       "  0.846875011920929,\n",
       "  0.8462499976158142,\n",
       "  0.8487499952316284,\n",
       "  0.8456249833106995,\n",
       "  0.8481249809265137,\n",
       "  0.8481249809265137,\n",
       "  0.8475000262260437,\n",
       "  0.846875011920929,\n",
       "  0.8456249833106995,\n",
       "  0.8481249809265137,\n",
       "  0.8500000238418579,\n",
       "  0.8475000262260437,\n",
       "  0.8475000262260437,\n",
       "  0.8475000262260437,\n",
       "  0.846875011920929,\n",
       "  0.8481249809265137,\n",
       "  0.8475000262260437,\n",
       "  0.8462499976158142,\n",
       "  0.8462499976158142,\n",
       "  0.846875011920929,\n",
       "  0.8462499976158142,\n",
       "  0.8462499976158142,\n",
       "  0.8475000262260437,\n",
       "  0.8481249809265137,\n",
       "  0.8481249809265137,\n",
       "  0.8462499976158142,\n",
       "  0.8493750095367432,\n",
       "  0.8487499952316284,\n",
       "  0.8443750143051147,\n",
       "  0.8481249809265137,\n",
       "  0.8462499976158142,\n",
       "  0.8475000262260437,\n",
       "  0.8462499976158142,\n",
       "  0.8487499952316284,\n",
       "  0.8475000262260437],\n",
       " 'val_loss': [0.5165097117424011,\n",
       "  0.45745620131492615,\n",
       "  0.43333718180656433,\n",
       "  0.42065665125846863,\n",
       "  0.40604686737060547,\n",
       "  0.3914499580860138,\n",
       "  0.3798106908798218,\n",
       "  0.37247246503829956,\n",
       "  0.36866524815559387,\n",
       "  0.364213764667511,\n",
       "  0.3627643287181854,\n",
       "  0.3606245517730713,\n",
       "  0.36062952876091003,\n",
       "  0.36332541704177856,\n",
       "  0.35879069566726685,\n",
       "  0.3588275909423828,\n",
       "  0.3591162860393524,\n",
       "  0.35853111743927,\n",
       "  0.35798418521881104,\n",
       "  0.3577522337436676,\n",
       "  0.3572934865951538,\n",
       "  0.357096791267395,\n",
       "  0.357511430978775,\n",
       "  0.35643935203552246,\n",
       "  0.3575884997844696,\n",
       "  0.3571555018424988,\n",
       "  0.35672104358673096,\n",
       "  0.3571595847606659,\n",
       "  0.35579437017440796,\n",
       "  0.3550643026828766,\n",
       "  0.3555062413215637,\n",
       "  0.35532811284065247,\n",
       "  0.35721129179000854,\n",
       "  0.35516926646232605,\n",
       "  0.35571736097335815,\n",
       "  0.3543781340122223,\n",
       "  0.35476750135421753,\n",
       "  0.35354164242744446,\n",
       "  0.3544684946537018,\n",
       "  0.35403746366500854,\n",
       "  0.35438787937164307,\n",
       "  0.3549472391605377,\n",
       "  0.35362547636032104,\n",
       "  0.3542531728744507,\n",
       "  0.35311058163642883,\n",
       "  0.35403144359588623,\n",
       "  0.35341736674308777,\n",
       "  0.35344037413597107,\n",
       "  0.3548036515712738,\n",
       "  0.3525606095790863,\n",
       "  0.3521997928619385,\n",
       "  0.35217708349227905,\n",
       "  0.35388684272766113,\n",
       "  0.3526822328567505,\n",
       "  0.35376182198524475,\n",
       "  0.35364019870758057,\n",
       "  0.35280510783195496,\n",
       "  0.35233554244041443,\n",
       "  0.35255664587020874,\n",
       "  0.3523256778717041,\n",
       "  0.3525604009628296,\n",
       "  0.3551678955554962,\n",
       "  0.3534989655017853,\n",
       "  0.3524231016635895,\n",
       "  0.353485643863678,\n",
       "  0.35259726643562317,\n",
       "  0.35346177220344543,\n",
       "  0.35347190499305725,\n",
       "  0.3538171350955963,\n",
       "  0.3524658977985382,\n",
       "  0.35415786504745483,\n",
       "  0.353866308927536,\n",
       "  0.35328760743141174,\n",
       "  0.35260021686553955,\n",
       "  0.3527989089488983,\n",
       "  0.3531241714954376,\n",
       "  0.3528393507003784,\n",
       "  0.3529110252857208,\n",
       "  0.35263732075691223,\n",
       "  0.3536490201950073,\n",
       "  0.3519684672355652,\n",
       "  0.35204407572746277,\n",
       "  0.3530062437057495,\n",
       "  0.35221412777900696,\n",
       "  0.3531692922115326,\n",
       "  0.3517149090766907,\n",
       "  0.35341644287109375,\n",
       "  0.35173338651657104,\n",
       "  0.35155609250068665,\n",
       "  0.35186058282852173,\n",
       "  0.3512539565563202,\n",
       "  0.35064584016799927,\n",
       "  0.3508549630641937,\n",
       "  0.35180914402008057,\n",
       "  0.3520830273628235,\n",
       "  0.35120880603790283,\n",
       "  0.3520190417766571,\n",
       "  0.35113656520843506,\n",
       "  0.3528316020965576,\n",
       "  0.3519205152988434]}"
      ]
     },
     "execution_count": 27,
     "metadata": {},
     "output_type": "execute_result"
    }
   ],
   "source": [
    "history.history"
   ]
  },
  {
   "cell_type": "code",
   "execution_count": 28,
   "id": "4f1ede64-9486-4a7c-95a4-afd16d42e94b",
   "metadata": {
    "tags": []
   },
   "outputs": [
    {
     "data": {
      "text/plain": [
       "[<matplotlib.lines.Line2D at 0x1815956ee40>]"
      ]
     },
     "execution_count": 28,
     "metadata": {},
     "output_type": "execute_result"
    },
    {
     "data": {
      "image/png": "[encoded data removed]",
      "text/plain": [
       "<Figure size 640x480 with 1 Axes>"
      ]
     },
     "metadata": {},
     "output_type": "display_data"
    }
   ],
   "source": [
    "plt.plot(history.history['loss'])\n",
    "plt.plot(history.history['val_loss'])"
   ]
  },
  {
   "cell_type": "code",
   "execution_count": 29,
   "id": "e6a44dbe-99d1-4872-b955-5d5fdb6be8c3",
   "metadata": {
    "tags": []
   },
   "outputs": [
    {
     "data": {
      "text/plain": [
       "[<matplotlib.lines.Line2D at 0x18159603500>]"
      ]
     },
     "execution_count": 29,
     "metadata": {},
     "output_type": "execute_result"
    },
    {
     "data": {
      "image/png": "[encoded data removed]",
      "text/plain": [
       "<Figure size 640x480 with 1 Axes>"
      ]
     },
     "metadata": {},
     "output_type": "display_data"
    }
   ],
   "source": [
    "plt.plot(history.history['accuracy'])\n",
    "plt.plot(history.history['val_accuracy'])"
   ]
  },
  {
   "cell_type": "code",
   "execution_count": null,
   "id": "4df8b16a-1840-4453-a3be-58a98c58ff69",
   "metadata": {},
   "outputs": [],
   "source": []
  }
 ],
 "metadata": {
  "kernelspec": {
   "display_name": "TF",
   "language": "python",
   "name": "tf"
  },
  "language_info": {
   "codemirror_mode": {
    "name": "ipython",
    "version": 3
   },
   "file_extension": ".py",
   "mimetype": "text/x-python",
   "name": "python",
   "nbconvert_exporter": "python",
   "pygments_lexer": "ipython3",
   "version": "3.12.4"
  }
 },
 "nbformat": 4,
 "nbformat_minor": 5
}
